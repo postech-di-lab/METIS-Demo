{
 "cells": [
  {
   "cell_type": "code",
   "execution_count": 1,
   "metadata": {},
   "outputs": [],
   "source": [
    "import pandas as pd\n",
    "import os, sys\n",
    "import numpy as np\n"
   ]
  },
  {
   "cell_type": "code",
   "execution_count": 2,
   "metadata": {},
   "outputs": [],
   "source": [
    "os.chdir('C:/Users/euna/Desktop/metis')\n",
    "sys.path.append('C:/Users/euna/Desktop/metis')"
   ]
  },
  {
   "cell_type": "code",
   "execution_count": 3,
   "metadata": {},
   "outputs": [
    {
     "name": "stderr",
     "output_type": "stream",
     "text": [
      "C:\\Users\\euna\\AppData\\Local\\Temp\\ipykernel_13348\\167105501.py:1: DtypeWarning: Columns (2,11,15,16,17,18,20,21,22,25,26,27,28,29,31,32,34,35,37,39,40) have mixed types. Specify dtype option on import or set low_memory=False.\n",
      "  arts_df = pd.read_csv('C:/Users/euna/Desktop/metis/arts/arts.csv')\n"
     ]
    }
   ],
   "source": [
    "arts_df = pd.read_csv('C:/Users/euna/Desktop/metis/arts/arts.csv')"
   ]
  },
  {
   "cell_type": "code",
   "execution_count": 4,
   "metadata": {},
   "outputs": [
    {
     "data": {
      "text/plain": [
       "Index(['Unnamed: 0', 'overall', 'vote', 'verified', 'reviewTime', 'reviewerID',\n",
       "       'asin', 'reviewerName', 'reviewText', 'summary', 'unixReviewTime',\n",
       "       'style.Format:', 'image', 'style.Color:', 'style.Size:',\n",
       "       'style.Size Name:', 'style.Style:', 'style.Style Name:',\n",
       "       'style.Color Name:', 'style.Package Quantity:', 'style.Package Type:',\n",
       "       'style.Design:', 'style.Pattern:', 'style.Item Package Quantity:',\n",
       "       'style.Item Display Length:', 'style.Length:',\n",
       "       'style.Product Packaging:', 'style.Metal Type:', 'style.style name:',\n",
       "       'style.Material Type:', 'style.Display Height:', 'style.Edition:',\n",
       "       'style.Material:', 'style.Number of Items:', 'style.Scent:',\n",
       "       'style.Scent Name:', 'style.Overall Length:', 'style.Shape:',\n",
       "       'style.Item Display Weight:', 'style.Team Name:', 'style.Flavor:'],\n",
       "      dtype='object')"
      ]
     },
     "execution_count": 4,
     "metadata": {},
     "output_type": "execute_result"
    }
   ],
   "source": [
    "#col 이름 확인 \n",
    "arts_df.columns"
   ]
  },
  {
   "cell_type": "code",
   "execution_count": 5,
   "metadata": {},
   "outputs": [],
   "source": [
    "#필요한 열만 사용\n",
    "arts_df = arts_df[['reviewTime', 'reviewerID', 'asin']]"
   ]
  },
  {
   "cell_type": "code",
   "execution_count": 6,
   "metadata": {},
   "outputs": [],
   "source": [
    "# review 3개 이상 한 사람의 세션 길이 구하려고\n",
    "test_df = arts_df.groupby('reviewerID').count()\n",
    "test_df = test_df[test_df['asin']>2]"
   ]
  },
  {
   "cell_type": "code",
   "execution_count": 7,
   "metadata": {},
   "outputs": [
    {
     "data": {
      "text/html": [
       "<div>\n",
       "<style scoped>\n",
       "    .dataframe tbody tr th:only-of-type {\n",
       "        vertical-align: middle;\n",
       "    }\n",
       "\n",
       "    .dataframe tbody tr th {\n",
       "        vertical-align: top;\n",
       "    }\n",
       "\n",
       "    .dataframe thead th {\n",
       "        text-align: right;\n",
       "    }\n",
       "</style>\n",
       "<table border=\"1\" class=\"dataframe\">\n",
       "  <thead>\n",
       "    <tr style=\"text-align: right;\">\n",
       "      <th></th>\n",
       "      <th>reviewTime</th>\n",
       "      <th>asin</th>\n",
       "    </tr>\n",
       "    <tr>\n",
       "      <th>reviewerID</th>\n",
       "      <th></th>\n",
       "      <th></th>\n",
       "    </tr>\n",
       "  </thead>\n",
       "  <tbody>\n",
       "    <tr>\n",
       "      <th>A00181966XZUX7KEGYLH</th>\n",
       "      <td>3</td>\n",
       "      <td>3</td>\n",
       "    </tr>\n",
       "    <tr>\n",
       "      <th>A00327403XHFRKYW3TDN</th>\n",
       "      <td>3</td>\n",
       "      <td>3</td>\n",
       "    </tr>\n",
       "    <tr>\n",
       "      <th>A00408825PVJW7GFLEGU</th>\n",
       "      <td>6</td>\n",
       "      <td>6</td>\n",
       "    </tr>\n",
       "    <tr>\n",
       "      <th>A0045558RLEOANWJ9H6A</th>\n",
       "      <td>3</td>\n",
       "      <td>3</td>\n",
       "    </tr>\n",
       "    <tr>\n",
       "      <th>A0049438OU67GPDVNT4Y</th>\n",
       "      <td>3</td>\n",
       "      <td>3</td>\n",
       "    </tr>\n",
       "    <tr>\n",
       "      <th>...</th>\n",
       "      <td>...</td>\n",
       "      <td>...</td>\n",
       "    </tr>\n",
       "    <tr>\n",
       "      <th>AZZX1X30TFZZI</th>\n",
       "      <td>4</td>\n",
       "      <td>4</td>\n",
       "    </tr>\n",
       "    <tr>\n",
       "      <th>AZZXGHDZV05KT</th>\n",
       "      <td>3</td>\n",
       "      <td>3</td>\n",
       "    </tr>\n",
       "    <tr>\n",
       "      <th>AZZXW4PH4OEEK</th>\n",
       "      <td>19</td>\n",
       "      <td>19</td>\n",
       "    </tr>\n",
       "    <tr>\n",
       "      <th>AZZYCJOJLUDYR</th>\n",
       "      <td>5</td>\n",
       "      <td>5</td>\n",
       "    </tr>\n",
       "    <tr>\n",
       "      <th>AZZZPAB0MBZ69</th>\n",
       "      <td>3</td>\n",
       "      <td>3</td>\n",
       "    </tr>\n",
       "  </tbody>\n",
       "</table>\n",
       "<p>223512 rows × 2 columns</p>\n",
       "</div>"
      ],
      "text/plain": [
       "                      reviewTime  asin\n",
       "reviewerID                            \n",
       "A00181966XZUX7KEGYLH           3     3\n",
       "A00327403XHFRKYW3TDN           3     3\n",
       "A00408825PVJW7GFLEGU           6     6\n",
       "A0045558RLEOANWJ9H6A           3     3\n",
       "A0049438OU67GPDVNT4Y           3     3\n",
       "...                          ...   ...\n",
       "AZZX1X30TFZZI                  4     4\n",
       "AZZXGHDZV05KT                  3     3\n",
       "AZZXW4PH4OEEK                 19    19\n",
       "AZZYCJOJLUDYR                  5     5\n",
       "AZZZPAB0MBZ69                  3     3\n",
       "\n",
       "[223512 rows x 2 columns]"
      ]
     },
     "execution_count": 7,
     "metadata": {},
     "output_type": "execute_result"
    }
   ],
   "source": [
    "test_df"
   ]
  },
  {
   "cell_type": "code",
   "execution_count": 8,
   "metadata": {},
   "outputs": [],
   "source": [
    "#session길이를 만드는 중\n",
    "test_df.rename(columns={'asin' : 'sessionlen'}, inplace=True)"
   ]
  },
  {
   "cell_type": "code",
   "execution_count": 9,
   "metadata": {},
   "outputs": [
    {
     "data": {
      "text/html": [
       "<div>\n",
       "<style scoped>\n",
       "    .dataframe tbody tr th:only-of-type {\n",
       "        vertical-align: middle;\n",
       "    }\n",
       "\n",
       "    .dataframe tbody tr th {\n",
       "        vertical-align: top;\n",
       "    }\n",
       "\n",
       "    .dataframe thead th {\n",
       "        text-align: right;\n",
       "    }\n",
       "</style>\n",
       "<table border=\"1\" class=\"dataframe\">\n",
       "  <thead>\n",
       "    <tr style=\"text-align: right;\">\n",
       "      <th></th>\n",
       "      <th>reviewerID</th>\n",
       "      <th>reviewTime</th>\n",
       "      <th>sessionlen</th>\n",
       "    </tr>\n",
       "  </thead>\n",
       "  <tbody>\n",
       "    <tr>\n",
       "      <th>0</th>\n",
       "      <td>A00181966XZUX7KEGYLH</td>\n",
       "      <td>3</td>\n",
       "      <td>3</td>\n",
       "    </tr>\n",
       "    <tr>\n",
       "      <th>1</th>\n",
       "      <td>A00327403XHFRKYW3TDN</td>\n",
       "      <td>3</td>\n",
       "      <td>3</td>\n",
       "    </tr>\n",
       "    <tr>\n",
       "      <th>2</th>\n",
       "      <td>A00408825PVJW7GFLEGU</td>\n",
       "      <td>6</td>\n",
       "      <td>6</td>\n",
       "    </tr>\n",
       "    <tr>\n",
       "      <th>3</th>\n",
       "      <td>A0045558RLEOANWJ9H6A</td>\n",
       "      <td>3</td>\n",
       "      <td>3</td>\n",
       "    </tr>\n",
       "    <tr>\n",
       "      <th>4</th>\n",
       "      <td>A0049438OU67GPDVNT4Y</td>\n",
       "      <td>3</td>\n",
       "      <td>3</td>\n",
       "    </tr>\n",
       "    <tr>\n",
       "      <th>...</th>\n",
       "      <td>...</td>\n",
       "      <td>...</td>\n",
       "      <td>...</td>\n",
       "    </tr>\n",
       "    <tr>\n",
       "      <th>223507</th>\n",
       "      <td>AZZX1X30TFZZI</td>\n",
       "      <td>4</td>\n",
       "      <td>4</td>\n",
       "    </tr>\n",
       "    <tr>\n",
       "      <th>223508</th>\n",
       "      <td>AZZXGHDZV05KT</td>\n",
       "      <td>3</td>\n",
       "      <td>3</td>\n",
       "    </tr>\n",
       "    <tr>\n",
       "      <th>223509</th>\n",
       "      <td>AZZXW4PH4OEEK</td>\n",
       "      <td>19</td>\n",
       "      <td>19</td>\n",
       "    </tr>\n",
       "    <tr>\n",
       "      <th>223510</th>\n",
       "      <td>AZZYCJOJLUDYR</td>\n",
       "      <td>5</td>\n",
       "      <td>5</td>\n",
       "    </tr>\n",
       "    <tr>\n",
       "      <th>223511</th>\n",
       "      <td>AZZZPAB0MBZ69</td>\n",
       "      <td>3</td>\n",
       "      <td>3</td>\n",
       "    </tr>\n",
       "  </tbody>\n",
       "</table>\n",
       "<p>223512 rows × 3 columns</p>\n",
       "</div>"
      ],
      "text/plain": [
       "                  reviewerID  reviewTime  sessionlen\n",
       "0       A00181966XZUX7KEGYLH           3           3\n",
       "1       A00327403XHFRKYW3TDN           3           3\n",
       "2       A00408825PVJW7GFLEGU           6           6\n",
       "3       A0045558RLEOANWJ9H6A           3           3\n",
       "4       A0049438OU67GPDVNT4Y           3           3\n",
       "...                      ...         ...         ...\n",
       "223507         AZZX1X30TFZZI           4           4\n",
       "223508         AZZXGHDZV05KT           3           3\n",
       "223509         AZZXW4PH4OEEK          19          19\n",
       "223510         AZZYCJOJLUDYR           5           5\n",
       "223511         AZZZPAB0MBZ69           3           3\n",
       "\n",
       "[223512 rows x 3 columns]"
      ]
     },
     "execution_count": 9,
     "metadata": {},
     "output_type": "execute_result"
    }
   ],
   "source": [
    "test_df.reset_index(drop=False)"
   ]
  },
  {
   "cell_type": "code",
   "execution_count": 10,
   "metadata": {},
   "outputs": [],
   "source": [
    "#세션안에서 시간순으로 정렬해주기위해 리뷰 시간을 datetime으로 바꿈\n",
    "arts_df['reviewTime'] = pd.to_datetime(arts_df['reviewTime'])"
   ]
  },
  {
   "cell_type": "code",
   "execution_count": 11,
   "metadata": {},
   "outputs": [],
   "source": [
    "df_sorted=arts_df.sort_values(by=['reviewerID','reviewTime'])"
   ]
  },
  {
   "cell_type": "code",
   "execution_count": 13,
   "metadata": {},
   "outputs": [],
   "source": [
    "df_merged = pd.merge(df_sorted, test_df, how='outer', on='reviewerID')"
   ]
  },
  {
   "cell_type": "code",
   "execution_count": 15,
   "metadata": {},
   "outputs": [],
   "source": [
    "df_merged = df_merged[df_merged['sessionlen']>2]\n",
    "df_merged = df_merged.reset_index(drop=True)"
   ]
  },
  {
   "cell_type": "code",
   "execution_count": 16,
   "metadata": {},
   "outputs": [
    {
     "data": {
      "text/html": [
       "<div>\n",
       "<style scoped>\n",
       "    .dataframe tbody tr th:only-of-type {\n",
       "        vertical-align: middle;\n",
       "    }\n",
       "\n",
       "    .dataframe tbody tr th {\n",
       "        vertical-align: top;\n",
       "    }\n",
       "\n",
       "    .dataframe thead th {\n",
       "        text-align: right;\n",
       "    }\n",
       "</style>\n",
       "<table border=\"1\" class=\"dataframe\">\n",
       "  <thead>\n",
       "    <tr style=\"text-align: right;\">\n",
       "      <th></th>\n",
       "      <th>reviewTime_x</th>\n",
       "      <th>reviewerID</th>\n",
       "      <th>asin</th>\n",
       "      <th>reviewTime_y</th>\n",
       "      <th>sessionlen</th>\n",
       "    </tr>\n",
       "  </thead>\n",
       "  <tbody>\n",
       "    <tr>\n",
       "      <th>0</th>\n",
       "      <td>2017-02-10</td>\n",
       "      <td>A00181966XZUX7KEGYLH</td>\n",
       "      <td>B01BW225Q6</td>\n",
       "      <td>3.0</td>\n",
       "      <td>3.0</td>\n",
       "    </tr>\n",
       "    <tr>\n",
       "      <th>1</th>\n",
       "      <td>2017-09-29</td>\n",
       "      <td>A00181966XZUX7KEGYLH</td>\n",
       "      <td>B000IYXIZM</td>\n",
       "      <td>3.0</td>\n",
       "      <td>3.0</td>\n",
       "    </tr>\n",
       "    <tr>\n",
       "      <th>2</th>\n",
       "      <td>2017-09-29</td>\n",
       "      <td>A00181966XZUX7KEGYLH</td>\n",
       "      <td>B01C9UYT46</td>\n",
       "      <td>3.0</td>\n",
       "      <td>3.0</td>\n",
       "    </tr>\n",
       "    <tr>\n",
       "      <th>3</th>\n",
       "      <td>2017-07-22</td>\n",
       "      <td>A00327403XHFRKYW3TDN</td>\n",
       "      <td>B0015590VO</td>\n",
       "      <td>3.0</td>\n",
       "      <td>3.0</td>\n",
       "    </tr>\n",
       "    <tr>\n",
       "      <th>4</th>\n",
       "      <td>2017-07-22</td>\n",
       "      <td>A00327403XHFRKYW3TDN</td>\n",
       "      <td>B00HNYHKIQ</td>\n",
       "      <td>3.0</td>\n",
       "      <td>3.0</td>\n",
       "    </tr>\n",
       "    <tr>\n",
       "      <th>...</th>\n",
       "      <td>...</td>\n",
       "      <td>...</td>\n",
       "      <td>...</td>\n",
       "      <td>...</td>\n",
       "      <td>...</td>\n",
       "    </tr>\n",
       "    <tr>\n",
       "      <th>1265790</th>\n",
       "      <td>2016-10-20</td>\n",
       "      <td>AZZYCJOJLUDYR</td>\n",
       "      <td>B001QX2G9S</td>\n",
       "      <td>5.0</td>\n",
       "      <td>5.0</td>\n",
       "    </tr>\n",
       "    <tr>\n",
       "      <th>1265791</th>\n",
       "      <td>2016-10-21</td>\n",
       "      <td>AZZYCJOJLUDYR</td>\n",
       "      <td>B005JGZEHO</td>\n",
       "      <td>5.0</td>\n",
       "      <td>5.0</td>\n",
       "    </tr>\n",
       "    <tr>\n",
       "      <th>1265792</th>\n",
       "      <td>2016-05-30</td>\n",
       "      <td>AZZZPAB0MBZ69</td>\n",
       "      <td>B00VUXT4RQ</td>\n",
       "      <td>3.0</td>\n",
       "      <td>3.0</td>\n",
       "    </tr>\n",
       "    <tr>\n",
       "      <th>1265793</th>\n",
       "      <td>2016-05-30</td>\n",
       "      <td>AZZZPAB0MBZ69</td>\n",
       "      <td>B014JU3BGG</td>\n",
       "      <td>3.0</td>\n",
       "      <td>3.0</td>\n",
       "    </tr>\n",
       "    <tr>\n",
       "      <th>1265794</th>\n",
       "      <td>2016-05-30</td>\n",
       "      <td>AZZZPAB0MBZ69</td>\n",
       "      <td>B018ESU3II</td>\n",
       "      <td>3.0</td>\n",
       "      <td>3.0</td>\n",
       "    </tr>\n",
       "  </tbody>\n",
       "</table>\n",
       "<p>1265795 rows × 5 columns</p>\n",
       "</div>"
      ],
      "text/plain": [
       "        reviewTime_x            reviewerID        asin  reviewTime_y  \\\n",
       "0         2017-02-10  A00181966XZUX7KEGYLH  B01BW225Q6           3.0   \n",
       "1         2017-09-29  A00181966XZUX7KEGYLH  B000IYXIZM           3.0   \n",
       "2         2017-09-29  A00181966XZUX7KEGYLH  B01C9UYT46           3.0   \n",
       "3         2017-07-22  A00327403XHFRKYW3TDN  B0015590VO           3.0   \n",
       "4         2017-07-22  A00327403XHFRKYW3TDN  B00HNYHKIQ           3.0   \n",
       "...              ...                   ...         ...           ...   \n",
       "1265790   2016-10-20         AZZYCJOJLUDYR  B001QX2G9S           5.0   \n",
       "1265791   2016-10-21         AZZYCJOJLUDYR  B005JGZEHO           5.0   \n",
       "1265792   2016-05-30         AZZZPAB0MBZ69  B00VUXT4RQ           3.0   \n",
       "1265793   2016-05-30         AZZZPAB0MBZ69  B014JU3BGG           3.0   \n",
       "1265794   2016-05-30         AZZZPAB0MBZ69  B018ESU3II           3.0   \n",
       "\n",
       "         sessionlen  \n",
       "0               3.0  \n",
       "1               3.0  \n",
       "2               3.0  \n",
       "3               3.0  \n",
       "4               3.0  \n",
       "...             ...  \n",
       "1265790         5.0  \n",
       "1265791         5.0  \n",
       "1265792         3.0  \n",
       "1265793         3.0  \n",
       "1265794         3.0  \n",
       "\n",
       "[1265795 rows x 5 columns]"
      ]
     },
     "execution_count": 16,
     "metadata": {},
     "output_type": "execute_result"
    }
   ],
   "source": [
    "df_merged"
   ]
  },
  {
   "cell_type": "code",
   "execution_count": 17,
   "metadata": {},
   "outputs": [],
   "source": [
    "#세션 아이티와 아이템 아이디를 붙여줌\n",
    "unique_arr=df_merged['reviewerID'].unique()\n",
    "unique_item=df_merged['asin'].unique()\n",
    "\n",
    "id_map={key:i for i, key in enumerate(unique_arr)}\n",
    "df_merged['sessionId'] = df_merged['reviewerID'].map(id_map)\n",
    "\n",
    "id_map={key:i for i, key in enumerate(unique_item)}\n",
    "df_merged['itemId'] = df_merged['asin'].map(id_map)"
   ]
  },
  {
   "cell_type": "code",
   "execution_count": 19,
   "metadata": {},
   "outputs": [],
   "source": [
    "df_merged.rename(columns={'reviewTime_x': 'reviewTime'}, inplace=True)"
   ]
  },
  {
   "cell_type": "code",
   "execution_count": 20,
   "metadata": {},
   "outputs": [],
   "source": [
    "df_merged = df_merged[['reviewTime', 'reviewerID', 'asin', 'sessionlen', 'sessionId', 'itemId']]"
   ]
  },
  {
   "cell_type": "code",
   "execution_count": 22,
   "metadata": {},
   "outputs": [],
   "source": [
    "test_df = df_merged.groupby('reviewerID').count()\n",
    "test_df = test_df[['sessionlen']]\n",
    "test_list = list(test_df['sessionlen'])"
   ]
  },
  {
   "cell_type": "code",
   "execution_count": 23,
   "metadata": {},
   "outputs": [],
   "source": [
    "val = 0\n",
    "len_list = []\n",
    "for i,idx in enumerate(test_list):\n",
    "    for j in range(idx):\n",
    "        len_list.append(val)\n",
    "        val += 1\n",
    "    val = 0\n",
    "\n"
   ]
  },
  {
   "cell_type": "code",
   "execution_count": 24,
   "metadata": {},
   "outputs": [],
   "source": [
    "from datetime import timedelta"
   ]
  },
  {
   "cell_type": "code",
   "execution_count": 25,
   "metadata": {},
   "outputs": [],
   "source": [
    "df_merged['a'] = len_list"
   ]
  },
  {
   "cell_type": "code",
   "execution_count": 26,
   "metadata": {},
   "outputs": [],
   "source": [
    "df_merged['b'] = df_merged.a*timedelta(seconds=30)"
   ]
  },
  {
   "cell_type": "code",
   "execution_count": 28,
   "metadata": {},
   "outputs": [],
   "source": [
    "df_merged['datetime'] = df_merged['reviewTime'] + df_merged['b']"
   ]
  },
  {
   "cell_type": "code",
   "execution_count": 30,
   "metadata": {},
   "outputs": [],
   "source": [
    "df_merged['timestamp'] = pd.to_datetime(df_merged['datetime']).astype(np.int64) / 10**9"
   ]
  },
  {
   "cell_type": "code",
   "execution_count": 32,
   "metadata": {},
   "outputs": [],
   "source": [
    "df_merged = df_merged[['reviewerID', 'asin', 'itemId', 'sessionId', 'timestamp']]"
   ]
  },
  {
   "cell_type": "code",
   "execution_count": 34,
   "metadata": {},
   "outputs": [],
   "source": [
    "def num(train_sess_num, train_ratio=0.8, val_ratio=0.1):\n",
    "    \n",
    "    train_num = train_sess_num*train_ratio\n",
    "    val_num = train_num + train_sess_num*val_ratio\n",
    "\n",
    "\n",
    "    return train_num, val_num, train_sess_num\n",
    "\n",
    "\n",
    "a,b,c = num(25000)\n",
    "\n",
    "\n",
    "df_train = df_merged[df_merged['sessionId'] < a]\n",
    "df_val = df_merged[(df_merged['sessionId'] >= a) & (df_merged['sessionId'] < b)]\n",
    "df_test = df_merged[(df_merged['sessionId'] >= b) & (df_merged['sessionId'] < c)]\n",
    "df_all = df_merged[df_merged['sessionId'] < c]\n",
    "\n"
   ]
  },
  {
   "cell_type": "code",
   "execution_count": 36,
   "metadata": {},
   "outputs": [],
   "source": [
    "def filter_less_more(df, min_len, max_len):\n",
    "    less_more = df.groupby('reviewerID').size()\n",
    "    less_more_idx = less_more[(less_more >= min_len) & (less_more <= max_len)].index\n",
    "    less_more_df = df[df['reviewerID'].isin(less_more_idx)]\n",
    "\n",
    "    cut = df.groupby('reviewerID').size()\n",
    "    cut_idx = cut[cut > max_len].index\n",
    "    cut_df = df[df['reviewerID'].isin(cut_idx)].groupby('reviewerID').tail(50)\n",
    "\n",
    "    filter_df = pd.concat([less_more_df, cut_df], axis=0)\n",
    "\n",
    "    return filter_df\n",
    "\n",
    "min_len = 4\n",
    "max_len = 50\n",
    "train_filter = filter_less_more(df_train, min_len, max_len)\n",
    "val_filter = filter_less_more(df_val, min_len, max_len)\n",
    "test_filter = filter_less_more(df_test, min_len, max_len)"
   ]
  },
  {
   "cell_type": "code",
   "execution_count": null,
   "metadata": {},
   "outputs": [],
   "source": []
  }
 ],
 "metadata": {
  "kernelspec": {
   "display_name": "base",
   "language": "python",
   "name": "python3"
  },
  "language_info": {
   "codemirror_mode": {
    "name": "ipython",
    "version": 3
   },
   "file_extension": ".py",
   "mimetype": "text/x-python",
   "name": "python",
   "nbconvert_exporter": "python",
   "pygments_lexer": "ipython3",
   "version": "3.9.12"
  },
  "orig_nbformat": 4
 },
 "nbformat": 4,
 "nbformat_minor": 2
}
